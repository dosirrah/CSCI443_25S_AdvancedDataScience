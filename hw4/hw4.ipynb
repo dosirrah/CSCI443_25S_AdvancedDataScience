{
 "cells": [
  {
   "cell_type": "markdown",
   "id": "45d2f6de-571c-4abb-8edd-71da0f123403",
   "metadata": {},
   "source": [
    "# Homework 4 CSCI443\n",
    "\n",
    "This homework can be done either entirely in Jupyter or in Spark.\n",
    "\n",
    "This particular homework does not require using Spark.  You may use Pandas."
   ]
  },
  {
   "cell_type": "markdown",
   "id": "927fab8c-c373-48c0-b8ca-4de032a47df4",
   "metadata": {},
   "source": [
    "The distribution of points across the problem is"
   ]
  },
  {
   "cell_type": "code",
   "execution_count": 15,
   "id": "21b2a803-f06c-45e8-8c83-837c8805b834",
   "metadata": {},
   "outputs": [
    {
     "data": {
      "text/plain": [
       "100"
      ]
     },
     "execution_count": 15,
     "metadata": {},
     "output_type": "execute_result"
    }
   ],
   "source": [
    "25+15+35+25"
   ]
  },
  {
   "cell_type": "markdown",
   "id": "7b185889-ae18-42d3-b9da-7dafa52930c1",
   "metadata": {},
   "source": [
    "## Part 1 Skewness\n",
    "\n",
    "[25 pts total]\n",
    "\n",
    "We mostly covered skewness empirically.  \"Follow the tails\" being a useful\n",
    "mnemonic--—if the tail extends further to the left, the skewness is negative;\n",
    "if it extends further to the right, the skewness is positive.\n",
    "\n",
    "In most cases, a left (negative) skewed distribution is characterized by having\n",
    "a mean that is less than the median, i.e., the heavy tail on the left has pulled\n",
    "the mean to the left of the median.  Conversly, a right skewed distribuion is \n",
    "characterized by having a mean that is greater than the median.  We will not\n",
    "encounter any distributions in this class where this is not true.  However, \n",
    "the relationship between the mean and median is merely a consequence, it isn't\n",
    "the formal definition of skewness.  Skewness (\\\\(\\gamma\\\\)) is most often defined \n",
    "as follows\n",
    "\n",
    "$$\\text{Skewness } \\gamma = \\frac{E[(X-\\mu)^3]}{\\sigma^3}$$\n",
    "\n",
    "The sample variance \\\\(\\sigma^2= \\frac{1}{n-1}\\sum (x_i-\\bar{x})^2\\\\)\n",
    "uses \\\\(\\frac{1}{n-1}\\\\) instead of \\\\(\\frac{1}{n}\\\\) to \n",
    "account for sample variance being computed from the same samples\n",
    "as the sample mean.  \n",
    "\n",
    "Sample Skewness (\\\\(G_1\\\\)) has a somewhat more complicated correction\n",
    "to handle the bias introduced by computing the sample mean, sample\n",
    "standard deviation, and sample skewness from the same samples.\n",
    "\n",
    "$$G_1 = \\frac{\\sqrt{n(n-1)}}{n-2} \\frac{1}{s^3} {\\frac{1}{n}\\sum_{i=1}^{n}(x_i - \\bar{x})^3}$$\n",
    "\n",
    "where\n",
    "\n",
    "  - \\\\(n\\\\) is the number of samples\n",
    "  - \\\\(x_i\\\\) is the \\\\(i^{th}\\\\) sample.\n",
    "  - \\\\(\\bar{x}\\\\) is the sample mean.\n",
    "\n",
    "\\\\(\\frac{n}{(n-1)(n-2)}\\\\) includes the correction for the bias \n",
    "introduced by computing \\\\(\\bar{x}\\\\), \\\\(s\\\\), and \n",
    "\\\\(G_1\\\\) from the same samples.  The derivation of this\n",
    "correction is outside the scope of the course, but I welcome\n",
    "the student to study it further should they wish.\n"
   ]
  },
  {
   "cell_type": "markdown",
   "id": "42c664bd-1f63-44ee-a570-9170155959ac",
   "metadata": {},
   "source": [
    "**Problem 1** [5 pts] Create code in this notebook to compute the sample skewness.\n",
    "Do not use the implementation in `scipy.stats`, except if you so desire to check\n",
    "your answers against an existing implementation.\n",
    "\n",
    "    def sample_skewness(samples) -> float:\n",
    "      ...\n",
    "\n",
    "      # $$\\text{Skewness } \\gamma = \\frac{E[(X-\\mu)^3]}{\\sigma^3}$$"
   ]
  },
  {
   "cell_type": "code",
   "execution_count": 9,
   "id": "bc1baab3-9425-4e8e-8c37-9678e4bc6d66",
   "metadata": {},
   "outputs": [],
   "source": [
    "# ANSWER HERE\n"
   ]
  },
  {
   "cell_type": "markdown",
   "id": "0ce6968e-b527-43d6-8d9e-817b914e3804",
   "metadata": {},
   "source": [
    "**Problem 2** [5 pts] Using pytest, write three unit tests in this\n",
    "in this notebook.\n",
    "\n",
    "The first unit test should confirm that your implementation of sample\n",
    "skewness returns 0 for samples spread perfectly even across a range.\n",
    "Your result should be allowed to be within 1e-15 of 0 due to the\n",
    "limits imposed by floating-point precision.  Use the following to\n",
    "populate the array\n",
    "\n",
    "    arr = np.linspace(start=0, stop=10, num=5)\n",
    "    \n",
    "All symmetric distributions exhibit 0 skewness. \n",
    "\n",
    "Here is an example unit test using Python's built-in unittest module.\n",
    "The specific unit tests are unrelated to the problem.  The purpose is\n",
    "just to provide examples of the unittest framework:\n",
    "\n",
    "    import unittest\n",
    "\n",
    "    class TestMathOperations(unittest.TestCase):\n",
    "        def test_addition(self):\n",
    "            self.assertEqual(1 + 1, 2)\n",
    "\n",
    "        def test_subtraction(self):\n",
    "           self.assertEqual(5 - 2, 3)\n",
    "\n",
    "    unittest.main(argv=[''], exit=False)\n",
    "\n",
    "Write a second unit test that computes the skewness \n",
    "\n",
    "    arr2 = np.append(arr, 1000)\n",
    "\n",
    "The result should be approximately 1.7885495.\n",
    "\n",
    "Write a third unit test that confirms that your implementation returns \\\\(2 \\pm 0.05\\\\)\n",
    "for a sufficient number of samples drawn from an exponential random variable\n",
    "with \\\\(\\lambda=1\\\\)."
   ]
  },
  {
   "cell_type": "code",
   "execution_count": null,
   "id": "ddadc13f-caab-46b4-98e3-fd84900b0f57",
   "metadata": {},
   "outputs": [],
   "source": [
    "import unittest\n",
    "\n",
    "class TestSkewness(unittest.TestCase):\n",
    "    def test_zero_skew(self):\n",
    "        arr = np.linspace(start=0, stop=10, num=5)\n",
    "\n",
    "        # INSERT CODE HERE.\n",
    "\n",
    "    def test_positive_skew(self):\n",
    "        pass  # INSERT CODE HERE.\n",
    "\n",
    "    def test_exponential_skew(self):\n",
    "        pass"
   ]
  },
  {
   "cell_type": "markdown",
   "id": "1c4acaf7-310e-4396-86aa-00242ecffd7f",
   "metadata": {},
   "source": [
    "**Probem 3** [5 pts]\n",
    "\n",
    "Skewness of a distribution is defined as\n",
    "\n",
    "\\\\[ \\gamma = \\frac{E[(X - \\mu)^3]}{\\sigma^3} = \\frac{1}{\\sigma^3} \\int_{-\\infty}^{\\infty} (x - \\mu)^3 f(x) \\, dx \\\\]\n",
    "\n",
    "A triangular distribution is defined by three parameters.  It has the pdf\n",
    "\n",
    "\\\\[\n",
    "f(x) = \\begin{cases} \n",
    "  0      & \\text{if } x \\leq a \\\\\n",
    "  \\frac{2\\cdot(x-a)}{(b-a)(c-a)}& \\text{if } a \\leq x \\leq c \\\\\n",
    "  \\frac{2\\cdot(c-x)}{(b-a)(c-b)}& \\text{if } c \\leq x \\leq b \\\\\n",
    "  0 & \\text{if } x \\geq b \\\\\n",
    "\\end{cases}\n",
    "\\\\]\n",
    "\n",
    "where \n",
    "\n",
    " * \\\\(a\\\\) is the left corner of the triangle, i.e., the lower bound\n",
    "   of the distribution's pdf.   \n",
    " * \\\\(b\\\\) is the right corner of the triangle, i.e., the upper bound\n",
    "   of the distribution's pdf.\n",
    " * \\\\(c\\\\) is at the peak of the triangle, i.e., the mode of the\n",
    "   distribution's pdf.\n",
    "\n",
    "An example triangular distribution is shown below."
   ]
  },
  {
   "cell_type": "code",
   "execution_count": 1,
   "id": "cd86863d-7091-42cc-9a14-d9be9f5a167b",
   "metadata": {},
   "outputs": [],
   "source": [
    "import matplotlib.pyplot as plt\n",
    "import numpy as np\n",
    "\n",
    "def plot_triangular_distribution(a, b, c):\n",
    "    \"\"\"\n",
    "    Plots a triangular distribution with labels for a, b, and c.\n",
    "    The peak (c) must be between a and b.\n",
    "    \n",
    "    Parameters:\n",
    "    - a: The minimum value of the distribution\n",
    "    - b: The maximum value of the distribution\n",
    "    - c: location of the mode (peak) of the distribution\n",
    "    \"\"\"\n",
    "    assert a <= c <= b \n",
    "    \n",
    "    # Define points for the triangular shape\n",
    "    x = [a, c, b]\n",
    "    h = 2 / (b-a)\n",
    "    w = b-a\n",
    "    y = [0, h, 0]\n",
    "    \n",
    "    # Plotting the triangular distribution\n",
    "    plt.figure(figsize=(8, 4))\n",
    "    plt.plot(x, y, '-o', label='Triangular Distribution')\n",
    "    \n",
    "    # Annotating points a, b, and c\n",
    "    plt.text(a - 0.025 * w, 0.05, 'a', ha='center', va='bottom', fontsize=12)\n",
    "    plt.text(b + 0.025 * w, 0.05, 'b', ha='center', va='bottom', fontsize=12)\n",
    "    plt.text(c, 1.05 * h, 'c', ha='center', va='bottom', fontsize=12)\n",
    "    \n",
    "    # Additional plot settings\n",
    "    plt.fill_between(x, y, color='skyblue', alpha=0.5)\n",
    "    plt.xlim([a - 0.1 * (b - a), b + 0.1 * (b - a)])\n",
    "    plt.ylim([0, h * 1.15])\n",
    "    plt.xlabel('Value')\n",
    "    plt.ylabel('Probability Density')\n",
    "    plt.title('Example Triangular Distribution')\n",
    "    plt.grid(True)\n",
    "    plt.show()\n",
    "\n",
    "\n"
   ]
  },
  {
   "cell_type": "code",
   "execution_count": null,
   "id": "254e0c0b-878b-4ab0-83ba-cae64b9cdc74",
   "metadata": {},
   "outputs": [],
   "source": []
  },
  {
   "cell_type": "markdown",
   "id": "76b270bd-2230-4837-ab4a-c7c27092014e",
   "metadata": {},
   "source": [
    "The mean of a triangular distribution is given by \n",
    "\n",
    "\\\\[ \\mu = \\frac{a + b + c}{3}\\\\]\n",
    "\n",
    "A right triangular distribution with the peak on the right edge of the \n",
    "triangle has \\\\(b=c\\\\), as shown below.  The triangle is shifted to the \n",
    "left so that the mean resides at 0."
   ]
  },
  {
   "cell_type": "code",
   "execution_count": 3,
   "id": "1bb02c11-53ce-4b3e-ba69-d88932f9045b",
   "metadata": {},
   "outputs": [
    {
     "data": {
      "image/png": "[encoded data removed]",
      "text/plain": [
       "<Figure size 800x400 with 1 Axes>"
      ]
     },
     "metadata": {},
     "output_type": "display_data"
    }
   ],
   "source": [
    "a, b, c = -2/3, 1/3, 1/3 \n",
    "plot_triangular_distribution(a, b, c)"
   ]
  },
  {
   "cell_type": "markdown",
   "id": "5fb861f8-7214-4bae-8cb9-a2dd778ac054",
   "metadata": {},
   "source": [
    "PDF of a right triangle distribution:\n",
    "\n",
    "\\\\[ f(x) = \\frac{2(x-a)}{(b-a)^2} \\quad \\text{for } a \\leq x \\leq b \\\\]\n",
    "\n",
    "However, \\\\(b-a=1\\\\), \\\\(a=-2/3\\\\), and \\\\(b=1/3\\\\) causing the above to simplify\n",
    "\n",
    "\\\\[ f(x) = 2(x-\\frac{2}{3}) \\quad \\text{for } -\\frac{2}{3} \\leq x \\leq \\frac{1}{3} \\\\]\n",
    "\n",
    "Derive the skewness for this distribution."
   ]
  },
  {
   "cell_type": "markdown",
   "id": "52d84a21-d670-4f1c-bb4f-0fea1ba42c1c",
   "metadata": {},
   "source": [
    "ANSWER HERE"
   ]
  },
  {
   "cell_type": "markdown",
   "id": "425a7a3d-facf-43ec-87a0-0e6db9116fe0",
   "metadata": {},
   "source": [
    "**Problem 4** [5 pts]\n",
    "\n",
    "Write code that generates 1000 samples obeying the triangular distribution given in Problem 3."
   ]
  },
  {
   "cell_type": "code",
   "execution_count": null,
   "id": "a7b85cc3-326a-43f6-ac09-cc6f0729012e",
   "metadata": {},
   "outputs": [],
   "source": [
    "#ANSWER HERE"
   ]
  },
  {
   "cell_type": "markdown",
   "id": "aaf76f0e-d5cf-46b8-bd2d-4929ec650107",
   "metadata": {},
   "source": [
    "**Problem 5** [5 pts]\n",
    "\n",
    "Use the samples generated in Problem 4 to demonstrate that the sample skewness is close to the \n",
    "analytically derived distribution skewness from Problem 3."
   ]
  },
  {
   "cell_type": "code",
   "execution_count": null,
   "id": "62621321-f409-4ff3-acb5-c8819e1768dd",
   "metadata": {},
   "outputs": [],
   "source": [
    "#ANSWER HERE"
   ]
  },
  {
   "cell_type": "markdown",
   "id": "b61402ae-afdd-4fc5-806b-0560d17bd712",
   "metadata": {},
   "source": [
    "## Part 2 Hypothesis Testing\n",
    "\n",
    "[15 points total]\n",
    "\n",
    "**Problem 6**: [3 pts]\n",
    "\n",
    "What does a significance level of 0.05 mean in hypothesis testing?  \n",
    "- A) There is a 5% chance that the null hypothesis is true.  \n",
    "- B) There is a 95% chance that the null hypothesis is false.  \n",
    "- C) There is a 5% chance of making a Type I error (rejecting a true null hypothesis).  \n",
    "- D) There is a 5% chance of making a Type II error (failing to reject a false null hypothesis).\n",
    "\n",
    "**Answer:** HERE\n",
    "\n",
    "---\n",
    "\n",
    "**Problem 7**: [3 pts]\n",
    "\n",
    "Which of the following is true about the relationship between the significance level (alpha) and the probability of a Type I error?  \n",
    "- A) As alpha increases, the probability of a Type I error decreases.  \n",
    "- B) As alpha increases, the probability of a Type I error increases.\n",
    "- C) As alpha decreases, the probability of a Type I error increases.  \n",
    "- D) There is no relationship between alpha and the probability of a Type I error.\n",
    "\n",
    "**Answer:** HERE\n",
    "\n",
    "---\n",
    "\n",
    "**Problem 8**: [3 pts]\n",
    "\n",
    "If a hypothesis test results in a p-value of 0.03 and the chosen significance level is 0.05, what should the researcher conclude?  \n",
    "- A) Reject the null hypothesis, as the p-value is greater than the significance level.  \n",
    "- B) Fail to reject the null hypothesis, as the p-value is greater than the significance level.  \n",
    "- C) Reject the null hypothesis, as the p-value is less than the significance level.  \n",
    "- D) Fail to reject the null hypothesis, as the p-value is less than the significance level.\n",
    "\n",
    "**Answer:** HERE\n",
    "\n",
    "---\n",
    "\n",
    "**Problem 9**: [3 pts]\n",
    "\n",
    "What happens when the significance level (alpha) is set too high in a hypothesis test?  \n",
    "- A) The likelihood of committing a Type II (false negative) error increases.  \n",
    "- B) The likelihood of committing a Type I (false positive) error decreases.  \n",
    "- C) The test becomes too stringent, making it harder to reject the null hypothesis.  \n",
    "- D) The likelihood of committing a Type I (false positive) error increases.\n",
    "\n",
    "**Answer:** HERE\n",
    "\n",
    "---\n",
    "\n",
    "**Problem 10**: [3 pts]\n",
    "\n",
    "Which of the following is true about the p-value in relation to the significance level?  \n",
    "- A) A p-value greater than the significance level suggests that the null hypothesis should be rejected.  \n",
    "- B) A p-value smaller than the significance level suggests that the null hypothesis cannot be rejected.  \n",
    "- C) A p-value smaller than the significance level suggests that the null hypothesis should be rejected.  \n",
    "- D) The p-value is irrelevant to hypothesis testing and significance level.\n",
    "\n",
    "**Answer:** HERE"
   ]
  },
  {
   "cell_type": "markdown",
   "id": "d4dd77a6-3024-44bc-acac-2be9a9ce4f08",
   "metadata": {},
   "source": [
    "## Part 3 Pancakes, Eggs, and Table Heights in the Academy of Lagado\n",
    "\n",
    "[35 points total]\n",
    "\n",
    "**The Great Breakfast Debate**\n",
    "\n",
    "During your visit to the flying island of Laputa, you find yourself at the Academy of Lagado— an institution known for its relentless pursuit of impractical science.  Two professors — Professor Eggsworth and Professor Flapjack — are engaged in a heated scientific rivalry.\n",
    "\n",
    "Each claims to have discovered the secret to determining the ideal breakfast table height for a citizen of Lagado.\n",
    "  * Professor Eggsworth believes that egg consumption per person predicts optimal table height.\n",
    "  * Professor Flapjack insists it’s actually the number of pancakes consumed per person that determines how high a Lagadian table should be.\n",
    "\n",
    "Each professor has gathered data across one hundred households, measuring the average daily consumption of eggs and pancakes, along with the Academy’s recommended breakfast table height (measured in Lagadian cubits).\n",
    "\n",
    "Their calculating department chair recognizing the danger of standing in the crossfire turns to you, a sacrificable data scientist from Ole Miss, to settle the debate.\n",
    "\n",
    "**Your Mission**\n",
    "\n",
    "You are given a dataset `lagado_breakfast_data.csv` with the following columns:\n",
    "  * eggs_per_person\n",
    "  * pancakes_per_person\n",
    "  * ideal_table_height\n",
    "\n",
    "Your task is to determine:\n",
    "  1. Which professor’s theory is statistically supported, if either.\n",
    "  2. Whether the professors should be given tenure or permanently reassigned to the marble pillow division."
   ]
  },
  {
   "cell_type": "markdown",
   "id": "c1e3478d-8e95-47af-8601-0e6fede4b5ae",
   "metadata": {},
   "source": [
    "**Problem 11** [5 pts] Load and visualize the dataset using matplotlib. Create two scatterplots using matplotlib:\n",
    " * One of eggs_per_person vs ideal_table_height\n",
    " * One of pancakes_per_person vs ideal_table_height\n",
    " \n",
    "Describe any visible trends."
   ]
  },
  {
   "cell_type": "code",
   "execution_count": null,
   "id": "8233ef0c-f43e-455e-a9d0-b83241f65028",
   "metadata": {},
   "outputs": [],
   "source": [
    "# ANSWER HERE"
   ]
  },
  {
   "cell_type": "markdown",
   "id": "d5cc3b31-6c63-48ce-aa84-ce2e82bedfe1",
   "metadata": {},
   "source": [
    "**Problem 12** [5 pts] For the eggs test and then the pancakes test:\n",
    "\n",
    "  * State the null and alternative hypotheses for the case where we only want to know whether there is correlation (two-tailed)"
   ]
  },
  {
   "cell_type": "markdown",
   "id": "ac13dd89-746c-46db-ba13-053857da196f",
   "metadata": {},
   "source": [
    "ANSWER HERE"
   ]
  },
  {
   "cell_type": "markdown",
   "id": "66664533-a7c3-4c39-810e-654badfecf96",
   "metadata": {},
   "source": [
    "**Problem 13** [5 pts] Compute the Pearson correlation coefficient and associated p-value for each relationship:\n",
    " * Eggs vs Table Height\n",
    " * Pancakes vs Table Height\n",
    "Report both r-values and p-values."
   ]
  },
  {
   "cell_type": "code",
   "execution_count": null,
   "id": "91d18221-2be2-45a8-855a-fbc467efd94a",
   "metadata": {},
   "outputs": [],
   "source": [
    "# ANSWER HERE"
   ]
  },
  {
   "cell_type": "markdown",
   "id": "db46f65c-d65d-4263-a109-e8161541d20d",
   "metadata": {},
   "source": [
    "**Problem 14** [5 pts] Determine whether the results are statistically significant at the α = 0.01 level.\n",
    " * Interpret the result in plain language. (Which professor, if any, is right?)"
   ]
  },
  {
   "cell_type": "code",
   "execution_count": null,
   "id": "2803aa90-8ae5-48d1-a874-837824752d18",
   "metadata": {},
   "outputs": [],
   "source": [
    "# ANSWER HERE"
   ]
  },
  {
   "cell_type": "markdown",
   "id": "2d95a3c3-73f1-455c-9461-af9cb0569290",
   "metadata": {},
   "source": [
    "**Problem 15** [5 pts] Restate the null and alternative hypotheses for the egg test and then the pancake test for the case where we are trying to determine whether there is statistically significant evidence of a positive correlation (one-tailed).  \n",
    "\n",
    "Explain the difference between one and two tailed tests."
   ]
  },
  {
   "cell_type": "code",
   "execution_count": null,
   "id": "7f5af4c8-bf5c-4f15-a210-9d5a2ce1d22b",
   "metadata": {},
   "outputs": [],
   "source": [
    "# ANSWER HERE"
   ]
  },
  {
   "cell_type": "markdown",
   "id": "42517593-5b99-4db3-afbb-f080420fa137",
   "metadata": {},
   "source": [
    "**Problem 16** [5 pts] Compute the associated p-values for the given data under the given null hypotheses from Problem 15:\n",
    " * Eggs vs Table Height\n",
    " * Pancakes vs Table Height\n",
    "Report both p-values."
   ]
  },
  {
   "cell_type": "code",
   "execution_count": null,
   "id": "b572fdf1-a77c-4bc0-9949-d0c8623098fc",
   "metadata": {},
   "outputs": [],
   "source": [
    "# ANSWER HERE"
   ]
  },
  {
   "cell_type": "markdown",
   "id": "904dca99-66e1-46a8-b022-0f94ae7c99a2",
   "metadata": {},
   "source": [
    "**Problem 17** [5 pts] Determine whether the tests described in Problem 15 and computed in Problem 16 are statistically significant at the α = 0.01 level.\n",
    " * Interpret the result in plain language."
   ]
  },
  {
   "cell_type": "code",
   "execution_count": null,
   "id": "4180048e-f19a-4059-8785-7b0b5fb2e5ff",
   "metadata": {},
   "outputs": [],
   "source": [
    "# ANSWER HERE"
   ]
  },
  {
   "cell_type": "markdown",
   "id": "4e852497-52cc-4b20-969f-070f8ffdf43b",
   "metadata": {},
   "source": [
    "**Problem 18** [Bonus: 5 pts] The Lagadian government is considering funding a research grant to produce adjustable-height tables based on breakfast habits. Would you recommend this investment based on the evidence obtained so far? Support your recommendation with humor and statistics."
   ]
  },
  {
   "cell_type": "code",
   "execution_count": null,
   "id": "37fe9f3b-d6dd-4553-a0e8-9e045db0889c",
   "metadata": {},
   "outputs": [],
   "source": [
    "# ANSWER HERE"
   ]
  },
  {
   "cell_type": "markdown",
   "id": "2963ef15-c2a9-4ee8-bcf9-6f3273cd8dc8",
   "metadata": {},
   "source": [
    "## Part 4. A Lilliputian Statistical Crisis\n",
    "\n",
    "[25 pts total]\n",
    "\n",
    "For centuries, the proud nation of Lilliput has enforced the imperial edict that boiled eggs must be opened at the small end — a decree that led to the exile of the rebellious Big-Endians to the neighboring island of Blefuscu. This seemingly trivial matter has caused six rebellions, countless beheadings, and at least one naval war.\n",
    "\n",
    "Recently, the Ministry of Tradition commissioned a poll to reinforce the cultural superiority of the Little-End way. Citizens of Lilliput and Blefuscu were asked privately which end they preferred to crack their eggs. The results shocked the establishment:\n",
    "  * 52 out of 100 Lilliputians said they preferred the big end.\n",
    "  * 36 out of 80 Blefuscudians said they preferred the big end.\n",
    "\n",
    "Panic ensued. The High Chamber of Truthiness demanded a rigorous statistical analysis before launching another inquisition or rewriting the sacred breakfast scriptures.\n",
    "\n",
    "**Your Mission:**\n",
    "\n",
    "* Restore Order (or Confirm Chaos)\n",
    "\n",
    "* Protect your head."
   ]
  },
  {
   "cell_type": "markdown",
   "id": "03b3294f-78d9-4aee-a4c5-894bdaa29f38",
   "metadata": {},
   "source": [
    "**Problem 19**. [5 pts] State the null hypothesis and alternative hypothesis to test whether the two populations (Lilliput and Blefuscu) significantly differ in their proportions of big-end preference."
   ]
  },
  {
   "cell_type": "markdown",
   "id": "3849c259-32d8-4e80-a05a-a9ee1cf9a72c",
   "metadata": {},
   "source": [
    "ANSWER HERE"
   ]
  },
  {
   "cell_type": "markdown",
   "id": "5d5fb95e-5f47-436e-a20a-25bd57f7a705",
   "metadata": {},
   "source": [
    "**Problem 20**. [5 pts] Calculate the sample proportions for each group. Which group appears to be more big-endian? Which group is supposed to be?"
   ]
  },
  {
   "cell_type": "markdown",
   "id": "fba1f1e7-b838-44cc-ba76-e38a039cf8df",
   "metadata": {},
   "source": [
    "ANSWER HERE"
   ]
  },
  {
   "cell_type": "markdown",
   "id": "3a230f03-de67-4bf3-b057-af770e1bafa5",
   "metadata": {},
   "source": [
    "**Problem 21**. [5 pts] Under the null hypothesis stated in Problem 19, calculate the pooled estimate of the proportion and the standard error. "
   ]
  },
  {
   "cell_type": "markdown",
   "id": "21eb3e22-ec2f-4188-b7bf-d0384dd599c3",
   "metadata": {},
   "source": [
    "ANSWER HERE"
   ]
  },
  {
   "cell_type": "markdown",
   "id": "d3309f3d-68f6-421f-8e88-69f1449d725a",
   "metadata": {},
   "source": [
    "**Problem 22** [5 pts] Assume that the sampling distribution of the sample\n",
    "proportion is reasonably approximated by a normal (Gaussian) distribution.\n",
    "Then compute the z-score and corresponding p-value for the difference in sample\n",
    "proportions."
   ]
  },
  {
   "cell_type": "code",
   "execution_count": null,
   "id": "14503be3-79ff-4eb2-840d-7d1ae69ca718",
   "metadata": {},
   "outputs": [],
   "source": [
    "ANSWER HERE"
   ]
  },
  {
   "cell_type": "markdown",
   "id": "ee31541d-838c-4734-8ea7-3a9e278b7781",
   "metadata": {},
   "source": [
    "**Problem 23**. [5 pts] At a 5% significance level, can the High Chamber reject the null hypothesis and declare a statistically meaningful betrayal of Lilliputian values? Justify your answer."
   ]
  },
  {
   "cell_type": "markdown",
   "id": "ae3f52bd-e8a3-4aa5-81de-cf64c0bbc078",
   "metadata": {},
   "source": [
    "ANSWER HERE"
   ]
  }
 ],
 "metadata": {
  "kernelspec": {
   "display_name": "Python 3 (ipykernel)",
   "language": "python",
   "name": "python3"
  },
  "language_info": {
   "codemirror_mode": {
    "name": "ipython",
    "version": 3
   },
   "file_extension": ".py",
   "mimetype": "text/x-python",
   "name": "python",
   "nbconvert_exporter": "python",
   "pygments_lexer": "ipython3",
   "version": "3.11.7"
  }
 },
 "nbformat": 4,
 "nbformat_minor": 5
}
