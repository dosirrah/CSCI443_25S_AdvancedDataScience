{
 "cells": [
  {
   "cell_type": "markdown",
   "id": "45d2f6de-571c-4abb-8edd-71da0f123403",
   "metadata": {},
   "source": [
    "# Homework 4 CSCI443 25S\n",
    "\n",
    "This homework can be done either entirely in Jupyter or in Spark.\n",
    "\n",
    "This particular homework does not require using Spark.  You may use Pandas."
   ]
  },
  {
   "cell_type": "markdown",
   "id": "927fab8c-c373-48c0-b8ca-4de032a47df4",
   "metadata": {},
   "source": [
    "The distribution of points across the problem is"
   ]
  },
  {
   "cell_type": "code",
   "execution_count": 4,
   "id": "21b2a803-f06c-45e8-8c83-837c8805b834",
   "metadata": {},
   "outputs": [
    {
     "data": {
      "text/plain": [
       "101"
      ]
     },
     "execution_count": 4,
     "metadata": {},
     "output_type": "execute_result"
    }
   ],
   "source": [
    "25+15+35+25"
   ]
  },
  {
   "cell_type": "markdown",
   "id": "7b185889-ae18-42d3-b9da-7dafa52930c1",
   "metadata": {},
   "source": [
    "## Part 1 Skewness\n",
    "\n",
    "[25 pts total]\n",
    "\n",
    "We mostly covered skewness empirically.  \"Follow the tails\" being a useful\n",
    "mnemonic--—if the tail extends further to the left, the skewness is negative;\n",
    "if it extends further to the right, the skewness is positive.\n",
    "\n",
    "In most cases, a left (negative) skewed distribution is characterized by having\n",
    "a mean that is less than the median, i.e., the heavy tail on the left has pulled\n",
    "the mean to the left of the median.  Conversly, a right skewed distribuion is \n",
    "characterized by having a mean that is greater than the median.  We will not\n",
    "encounter any distributions in this class where this is not true.  However, \n",
    "the relationship between the mean and median is merely a consequence, it isn't\n",
    "the formal definition of skewness.  Skewness (\\\\(\\gamma\\\\)) is most often defined \n",
    "as follows\n",
    "\n",
    "$$\\text{Skewness } \\gamma = \\frac{E[(X-\\mu)^3]}{\\sigma^3}$$\n",
    "\n",
    "The sample variance \\\\(s^2= \\frac{1}{n-1}\\sum (x_i-\\bar{x})^2\\\\)\n",
    "uses \\\\(\\frac{1}{n-1}\\\\) instead of \\\\(\\frac{1}{n}\\\\) to \n",
    "account for sample variance being computed from the same samples\n",
    "as the sample mean.  \n",
    "\n",
    "Sample Skewness (\\\\(G_1\\\\)) has a somewhat more complicated correction\n",
    "to handle the bias introduced by computing the sample mean, sample\n",
    "standard deviation, and sample skewness from the same samples.\n",
    "\n",
    "$$G_1 = \\frac{\\sqrt{n(n-1)}}{n-2} \\frac{1}{s^3} {\\frac{1}{n}\\sum_{i=1}^{n}(x_i - \\bar{x})^3}$$\n",
    "\n",
    "where\n",
    "\n",
    "  - \\\\(n\\\\) is the number of samples\n",
    "  - \\\\(x_i\\\\) is the \\\\(i^{th}\\\\) sample.\n",
    "  - \\\\(\\bar{x}\\\\) is the sample mean.\n",
    "\n",
    "\\\\(\\frac{n}{(n-1)(n-2)}\\\\) includes the correction for the bias \n",
    "introduced by computing \\\\(\\bar{x}\\\\), \\\\(s\\\\), and \n",
    "\\\\(G_1\\\\) from the same samples.  The derivation of this\n",
    "correction is outside the scope of the course, but I welcome\n",
    "the student to study it further should they wish.\n"
   ]
  },
  {
   "cell_type": "markdown",
   "id": "42c664bd-1f63-44ee-a570-9170155959ac",
   "metadata": {},
   "source": [
    "**Problem 2** [5 pts] Create code in this notebook to compute the sample skewness.\n",
    "Do not use the implementation in `scipy.stats`, except if you so desire to check\n",
    "your answers against an existing implementation.\n",
    "\n",
    "    def sample_skewness(samples) -> float:\n",
    "      ...\n",
    "\n",
    "      # $$\\text{Skewness } \\gamma = \\frac{E[(X-\\mu)^3]}{\\sigma^3}$$"
   ]
  },
  {
   "cell_type": "code",
   "execution_count": 9,
   "id": "bc1baab3-9425-4e8e-8c37-9678e4bc6d66",
   "metadata": {},
   "outputs": [
    {
     "name": "stdout",
     "output_type": "stream",
     "text": [
      "sample skewness: 0.0\n",
      "scipy skew: 0.0\n"
     ]
    }
   ],
   "source": [
    "# ANSWER\n",
    "import numpy as np\n",
    "from scipy.stats import skew\n",
    "\n",
    "def sample_skewness(samples) -> float:\n",
    "    n = len(samples)\n",
    "    if n < 3:\n",
    "        raise ValueError(\"Must have at least three samples to compute skewness\")\n",
    "        \n",
    "    mu = np.mean(samples)\n",
    "    s = np.std(samples, ddof=1)\n",
    "    cubex = (samples - mu) ** 3\n",
    "    sumcubex = np.sum(cubex)\n",
    "    \n",
    "    # $$G_1 = \\frac{\\sqrt{n(n-1)}}{n-2} \\frac{1}{s^3} {\\frac{1}{n}\\sum_{i=1}^{n}(x_i - \\bar{x})^3}$$\n",
    "    G_1 = (np.sqrt(n * (n-1)) / (n-2)) * (1 / s**3) * (1 / n) * sumcubex\n",
    "\n",
    "    return G_1\n",
    "\n",
    "samples = np.array([0, 5, 10])\n",
    "print(f\"sample skewness: {sample_skewness(samples)}\")\n",
    "print(f\"scipy skew: {skew(samples, bias=True)}\")"
   ]
  },
  {
   "cell_type": "markdown",
   "id": "0ce6968e-b527-43d6-8d9e-817b914e3804",
   "metadata": {},
   "source": [
    "**Problem 3** [5 pts] Using pytest, write three unit tests in this\n",
    "in this notebook.\n",
    "\n",
    "The first unit test should confirm that your implementation of sample\n",
    "skewness returns 0 for samples spread perfectly even across a range.\n",
    "Your result should be allowed to be within 1e-15 of 0 due to the\n",
    "limits imposed by floating-point precision.  Use the following to\n",
    "populate the array\n",
    "\n",
    "    arr = np.linspace(start=0, stop=10, num=5)\n",
    "    \n",
    "All symmetric distributions exhibit 0 skewness. \n",
    "\n",
    "Here is an example unit test using Python's built-in unittest module.\n",
    "The specific unit tests are unrelated to the problem.  The purpose is\n",
    "just to provide examples of the unittest framework:\n",
    "\n",
    "    import unittest\n",
    "\n",
    "    class TestMathOperations(unittest.TestCase):\n",
    "        def test_addition(self):\n",
    "            self.assertEqual(1 + 1, 2)\n",
    "\n",
    "        def test_subtraction(self):\n",
    "           self.assertEqual(5 - 2, 3)\n",
    "\n",
    "    unittest.main(argv=[''], exit=False)\n",
    "\n",
    "Write a second unit test that computes the skewness \n",
    "\n",
    "    arr2 = np.append(arr, 1000)\n",
    "\n",
    "The result should be approximately 1.7885495.\n",
    "\n",
    "Write a third unit test that confirms that your implementation returns \\\\(2 \\pm 0.05\\\\)\n",
    "for a sufficient number of samples drawn from an exponential random variable\n",
    "with \\\\(\\lambda=1\\\\)."
   ]
  },
  {
   "cell_type": "code",
   "execution_count": 59,
   "id": "ddadc13f-caab-46b4-98e3-fd84900b0f57",
   "metadata": {},
   "outputs": [
    {
     "name": "stderr",
     "output_type": "stream",
     "text": [
      "....\n",
      "----------------------------------------------------------------------\n",
      "Ran 4 tests in 0.009s\n",
      "\n",
      "OK\n"
     ]
    },
    {
     "data": {
      "text/plain": [
       "<unittest.runner.TextTestResult run=4 errors=0 failures=0>"
      ]
     },
     "execution_count": 59,
     "metadata": {},
     "output_type": "execute_result"
    }
   ],
   "source": [
    "import unittest\n",
    "from scipy.stats import skew\n",
    "\n",
    "\n",
    "class TestSkewness(unittest.TestCase):\n",
    "    def test_zero_skew(self):\n",
    "        arr = np.linspace(start=0, stop=10, num=5)\n",
    "\n",
    "        G1 = sample_skewness(arr)\n",
    "        self.assertLess(G1, 0.05)\n",
    "        self.assertGreater(G1, -0.05)\n",
    "    \n",
    "    def test_positive_skew(self):\n",
    "        arr = np.linspace(start=0, stop=10, num=5)\n",
    "        arr2 = np.append(arr, 1000)\n",
    "        #print(f\"G1={skew(arr2, bias = True)}\")\n",
    "        G1 = sample_skewness(arr2)\n",
    "\n",
    "        self.assertGreater(G1, 1.788 - 0.1)\n",
    "        self.assertLess(G1, 1.788 + 0.1)\n",
    "\n",
    "    def test_negative_skew(self):  # optional. Not in original problem.\n",
    "        arr = [-100., -20, 0, 1, 2]\n",
    "        G1 = sample_skewness(arr)\n",
    "        self.assertLess(G1, 0)\n",
    "\n",
    "    def test_exponential_skew(self):\n",
    "        np.random.seed(1231)\n",
    "        samples = np.random.exponential(scale=1.0, size=100000)\n",
    "        G1 = sample_skewness(samples)\n",
    "        self.assertLess(G1, 2.0 + 0.1)\n",
    "        self.assertGreater(G1, 2.0 - 0.1)\n",
    "        \n",
    "\n",
    "unittest.TextTestRunner().run(unittest.TestLoader().loadTestsFromTestCase(TestSkewness))"
   ]
  },
  {
   "cell_type": "markdown",
   "id": "1c4acaf7-310e-4396-86aa-00242ecffd7f",
   "metadata": {},
   "source": [
    "**Probem 4** [5 pts]\n",
    "\n",
    "Skewness of a distribution is defined as\n",
    "\n",
    "\\\\[ \\gamma = \\frac{E[(X - \\mu)^3]}{\\sigma^3} = \\frac{1}{\\sigma^3} \\int_{-\\infty}^{\\infty} (x - \\mu)^3 f(x) \\, dx \\\\]\n",
    "\n",
    "A triangular distribution is defined by three parameters.  It has the pdf\n",
    "\n",
    "\\\\[\n",
    "f(x) = \\begin{cases} \n",
    "  0      & \\text{if } x \\leq a \\\\\n",
    "  \\frac{2\\cdot(x-a)}{(b-a)(c-a)}& \\text{if } a \\leq x \\leq c \\\\\n",
    "  \\frac{2\\cdot(c-x)}{(b-a)(c-b)}& \\text{if } c \\leq x \\leq b \\\\\n",
    "  0 & \\text{if } x \\geq b \\\\\n",
    "\\end{cases}\n",
    "\\\\]\n",
    "\n",
    "where \n",
    "\n",
    " * \\\\(a\\\\) is the left corner of the triangle, i.e., the lower bound\n",
    "   of the distribution's pdf.   \n",
    " * \\\\(b\\\\) is the right corner of the triangle, i.e., the upper bound\n",
    "   of the distribution's pdf.\n",
    " * \\\\(c\\\\) is at the peak of the triangle, i.e., the mode of the\n",
    "   distribution's pdf.\n",
    "\n",
    "An example triangular distribution is shown below."
   ]
  },
  {
   "cell_type": "code",
   "execution_count": 1,
   "id": "cd86863d-7091-42cc-9a14-d9be9f5a167b",
   "metadata": {},
   "outputs": [],
   "source": [
    "import matplotlib.pyplot as plt\n",
    "import numpy as np\n",
    "\n",
    "def plot_triangular_distribution(a, b, c):\n",
    "    \"\"\"\n",
    "    Plots a triangular distribution with labels for a, b, and c.\n",
    "    The peak (c) must be between a and b.\n",
    "    \n",
    "    Parameters:\n",
    "    - a: The minimum value of the distribution\n",
    "    - b: The maximum value of the distribution\n",
    "    - c: location of the mode (peak) of the distribution\n",
    "    \"\"\"\n",
    "    assert a <= c <= b \n",
    "    \n",
    "    # Define points for the triangular shape\n",
    "    x = [a, c, b]\n",
    "    h = 2 / (b-a)\n",
    "    w = b-a\n",
    "    y = [0, h, 0]\n",
    "    \n",
    "    # Plotting the triangular distribution\n",
    "    plt.figure(figsize=(8, 4))\n",
    "    plt.plot(x, y, '-o', label='Triangular Distribution')\n",
    "    \n",
    "    # Annotating points a, b, and c\n",
    "    plt.text(a - 0.025 * w, 0.05, 'a', ha='center', va='bottom', fontsize=12)\n",
    "    plt.text(b + 0.025 * w, 0.05, 'b', ha='center', va='bottom', fontsize=12)\n",
    "    plt.text(c, 1.05 * h, 'c', ha='center', va='bottom', fontsize=12)\n",
    "    \n",
    "    # Additional plot settings\n",
    "    plt.fill_between(x, y, color='skyblue', alpha=0.5)\n",
    "    plt.xlim([a - 0.1 * (b - a), b + 0.1 * (b - a)])\n",
    "    plt.ylim([0, h * 1.15])\n",
    "    plt.xlabel('Value')\n",
    "    plt.ylabel('Probability Density')\n",
    "    plt.title('Example Triangular Distribution')\n",
    "    plt.grid(True)\n",
    "    plt.show()\n",
    "\n",
    "\n"
   ]
  },
  {
   "cell_type": "code",
   "execution_count": null,
   "id": "254e0c0b-878b-4ab0-83ba-cae64b9cdc74",
   "metadata": {},
   "outputs": [],
   "source": []
  },
  {
   "cell_type": "markdown",
   "id": "76b270bd-2230-4837-ab4a-c7c27092014e",
   "metadata": {},
   "source": [
    "The mean of a triangular distribution is given by \n",
    "\n",
    "\\\\[ \\mu = \\frac{a + b + c}{3}\\\\]\n",
    "\n",
    "A right triangular distribution with the peak on the right edge of the \n",
    "triangle has \\\\(b=c\\\\), as shown below.  The triangle is shifted to the \n",
    "left so that the mean resides at 0."
   ]
  },
  {
   "cell_type": "code",
   "execution_count": 3,
   "id": "1bb02c11-53ce-4b3e-ba69-d88932f9045b",
   "metadata": {},
   "outputs": [
    {
     "data": {
      "image/png": "[encoded data removed]",
      "text/plain": [
       "<Figure size 800x400 with 1 Axes>"
      ]
     },
     "metadata": {},
     "output_type": "display_data"
    }
   ],
   "source": [
    "a, b, c = -2/3, 1/3, 1/3 \n",
    "plot_triangular_distribution(a, b, c)"
   ]
  },
  {
   "cell_type": "markdown",
   "id": "5fb861f8-7214-4bae-8cb9-a2dd778ac054",
   "metadata": {},
   "source": [
    "PDF of a right triangle distribution:\n",
    "\n",
    "\\\\[ f(x) = \\frac{2(x-a)}{(b-a)^2} \\quad \\text{for } a \\leq x \\leq b \\\\]\n",
    "\n",
    "However, \\\\(b-a=1\\\\), \\\\(a=-2/3\\\\), and \\\\(b=1/3\\\\) causing the above to simplify\n",
    "\n",
    "\\\\[ f(x) = 2(x+\\frac{2}{3}) \\quad \\text{for } -\\frac{2}{3} \\leq x \\leq \\frac{1}{3} \\\\]\n",
    "\n",
    "Derive the skewness for this distribution."
   ]
  },
  {
   "cell_type": "markdown",
   "id": "52d84a21-d670-4f1c-bb4f-0fea1ba42c1c",
   "metadata": {},
   "source": [
    "\n",
    "A: \n",
    "\n",
    "\\\\[ \\frac{E[(X - \\mu)^3]}{\\sigma^3} = \\frac{1}{\\sigma^3} \\int_{-\\frac{2}{3}}^{\\frac{1}{3}} x^3 \\cdot 2(x+\\frac{2}{3}) \\, dx \\\\]\n",
    "\n",
    "$$\\frac{1}{\\sigma^3} \\bigg(\\frac{2}{5}x^5 + \\frac{1}{3}x^4 \\bigg)\\bigg|_{x=-\\frac{2}{3}}^{\\frac{1}{3}}$$\n",
    "\n",
    "$$\\frac{1}{\\sigma^3} \\bigg(\\frac{2}{5}(\\frac{1}{3})^5 + \\frac{1}{3}(\\frac{1}{3})^4 - \\frac{2}{5}(-\\frac{2}{3})^5 - \\frac{1}{3}(-\\frac{2}{3})^4 \\bigg)$$\n",
    "\n",
    "$$\\gamma = \\frac{-0.0\\overline{074}}{\\sigma^3}$$\n",
    "\n",
    "The standard deviation of a triangular distribution is given by\n",
    "\n",
    "\\\\[ \\sigma = \\sqrt{\\frac{a^2 + b^2 + c^2 - ab - ac - bc}{18}}\\\\]\n",
    "\n",
    "Because \\\\(b==c\\\\) the standard deviation simplifies to\n",
    "\n",
    "<!-- \\\\[ \\sigma = \\sqrt{\\frac{a^2 + b^2 + \\cancel{b^2} - ab - ab - \\cancel{b^2}}{18}}\\\\]\n",
    "-->\n",
    "\\\\[ \\sigma = \\sqrt{\\frac{a^2 + b^2 + b^2 - ab - ab - b^2}{18}}\\\\]\n",
    "\n",
    "\\\\[ \\sigma = \\frac{\\sqrt{a^2 - 2ab + b^2}}{3\\sqrt{2}} = \\frac{|a-b|}{3\\sqrt{2}} = \\frac{1}{3\\sqrt{2}} \\\\]\n",
    "\n",
    "\\\\[ \\sigma \\approx 0.2357 \\\\]\n",
    "\n",
    "\\\\[ \\gamma = (3\\sqrt{2})^3 \\cdot -0.0\\overline{074} \\\\]\n",
    "\n",
    "\\\\[ \\boxed{\\gamma \\approx -0.566} \\\\]\n"
   ]
  },
  {
   "cell_type": "markdown",
   "id": "fb435242-180c-45be-a744-a8e06eee6d02",
   "metadata": {},
   "source": [
    "**Problem 5** [5 pts]\n",
    "\n",
    "Write code that generates 1000 samples obeying the triangular distribution given in Problem 4.\n",
    "\n",
    "A: We have a PDF $f(x)$, but it may not be immediately clear how to generate random\n",
    "numbers that obey this distribution.\n",
    "\n",
    "One relatively straightforward approach is to \n",
    "compute the CDF $F(x)$ which maps $x$ on to the range $[0,1]$.   \n",
    "\n",
    "$$F(x) = \\int_{-\\infty}^{x} f(t) dt$$\n",
    "\n",
    "Then we generate random numbers $y \\sim \\mathcal{U}[0, 1]$ and map it back to the domain of $x$\n",
    "using the inverse of the CDR.\n",
    "\n",
    "$$x = F^{-1}(y)$$\n",
    "\n",
    "We have \n",
    "\n",
    "\\\\[ f(x) = 2(x+\\frac{2}{3}) \\quad \\text{for } -\\frac{2}{3} \\leq x \\leq \\frac{1}{3} \\\\]"
   ]
  },
  {
   "cell_type": "markdown",
   "id": "07ca4cfa-e3e7-44e5-8249-d3c9e6f9d4b4",
   "metadata": {},
   "source": [
    "From this we can derive the CDF as follows\n",
    "\n",
    "\\begin{align}\n",
    "  F(x) &= \\int_{-\\frac{2}{3}}^x 2(t + \\frac{2}{3}) dt \\\\\n",
    "       &= \\big(2 \\frac{t^2}{2} + \\frac{4}{3}~t\\big) \\bigg|_{-\\frac{2}{3}}^x \\\\\n",
    "       &= t^2 \\bigg|_{-\\frac{2}{3}}^x + \\frac{4}{3}~t \\bigg|_{-\\frac{2}{3}}^x \\\\\n",
    "       &= x^2 - \\frac{4}{9} + \\frac{4}{3}~x + \\frac{8}{9} \\\\\n",
    "       \\\\\n",
    "  F(x) &= \\big( x + \\frac{2}{3} \\big)^2  \\quad \\text{for } -\\frac{2}{3} \\leq x \\leq \\frac{1}{3} \n",
    "\\end{align}"
   ]
  },
  {
   "cell_type": "markdown",
   "id": "60f87087-e87e-48d6-abec-a417d3de893d",
   "metadata": {},
   "source": [
    "We can derive the inverse \n",
    "\n",
    "$$x = F^{-1}(y) = \\sqrt{y} - \\frac{2}{3}$$\n",
    "\n",
    "We can then compute samples using a uniform random variable $y \\sim [0,1]$.\n"
   ]
  },
  {
   "cell_type": "code",
   "execution_count": 62,
   "id": "a7b85cc3-326a-43f6-ac09-cc6f0729012e",
   "metadata": {},
   "outputs": [
    {
     "data": {
      "text/plain": [
       "-0.5518648348734353"
      ]
     },
     "execution_count": 62,
     "metadata": {},
     "output_type": "execute_result"
    }
   ],
   "source": [
    "def gen_samples(n):\n",
    "\n",
    "    return np.sqrt(np.random.uniform(0, 1, size=n)) - 2./3\n",
    "\n",
    "samples = gen_samples(1000)"
   ]
  },
  {
   "cell_type": "markdown",
   "id": "aaf76f0e-d5cf-46b8-bd2d-4929ec650107",
   "metadata": {},
   "source": [
    "**Problem 6** [5 pts]\n",
    "\n",
    "Use the samples generated in Problem 5 to demonstrate that the sample skewness is close to the \n",
    "analytically derived distribution skewness from Problem 4."
   ]
  },
  {
   "cell_type": "code",
   "execution_count": 63,
   "id": "62621321-f409-4ff3-acb5-c8819e1768dd",
   "metadata": {},
   "outputs": [
    {
     "data": {
      "text/plain": [
       "-0.5518648348734353"
      ]
     },
     "execution_count": 63,
     "metadata": {},
     "output_type": "execute_result"
    }
   ],
   "source": [
    "sample_skewness(samples)"
   ]
  },
  {
   "cell_type": "markdown",
   "id": "b61402ae-afdd-4fc5-806b-0560d17bd712",
   "metadata": {},
   "source": [
    "## Part 2 Hypothesis Testing\n",
    "\n",
    "[15 points total]\n",
    "\n",
    "**Problem 7**: [3 pts]\n",
    "\n",
    "What does a significance level of 0.05 mean in hypothesis testing?  \n",
    "- A) There is a 5% chance that the null hypothesis is true.  \n",
    "- B) There is a 95% chance that the null hypothesis is false.  \n",
    "- C) There is a 5% chance of making a Type I error (rejecting a true null hypothesis).  \n",
    "- D) There is a 5% chance of making a Type II error (failing to reject a false null hypothesis).\n",
    "\n",
    "**Answer:** C) There is a 5% chance of making a Type I error (rejecting a true null hypothesis).\n",
    "\n",
    "---\n",
    "\n",
    "**Problem 8**: [3 pts]\n",
    "\n",
    "Which of the following is true about the relationship between the significance level (alpha) and the probability of a Type I error?  \n",
    "- A) As alpha increases, the probability of a Type I error decreases.  \n",
    "- B) As alpha increases, the probability of a Type I error increases.\n",
    "- C) As alpha decreases, the probability of a Type I error increases.  \n",
    "- D) There is no relationship between alpha and the probability of a Type I error.\n",
    "\n",
    "**Answer:** B) As alpha increases, the probability of a Type I error increases.\n",
    "\n",
    "---\n",
    "\n",
    "**Problem 9**: [3 pts]\n",
    "\n",
    "If a hypothesis test results in a p-value of 0.03 and the chosen significance level is 0.05, what should the researcher conclude?  \n",
    "- A) Reject the null hypothesis, as the p-value is greater than the significance level.  \n",
    "- B) Fail to reject the null hypothesis, as the p-value is greater than the significance level.  \n",
    "- C) Reject the null hypothesis, as the p-value is less than the significance level.  \n",
    "- D) Fail to reject the null hypothesis, as the p-value is less than the significance level.\n",
    "\n",
    "**Answer:** C) Reject the null hypothesis, as the p-value is less than the significance level.\n",
    "\n",
    "---\n",
    "\n",
    "**Problem 10**: [3 pts]\n",
    "\n",
    "What happens when the significance level (alpha) is set too high in a hypothesis test?  \n",
    "- A) The likelihood of committing a Type II (false negative) error increases.  \n",
    "- B) The likelihood of committing a Type I (false positive) error decreases.  \n",
    "- C) The test becomes too stringent, making it harder to reject the null hypothesis.  \n",
    "- D) The likelihood of committing a Type I (false positive) error increases.\n",
    "\n",
    "**Answer:** D) The likelihood of committing a Type I error increases.\n",
    "\n",
    "---\n",
    "\n",
    "**Problem 11**: [3 pts]\n",
    "\n",
    "Which of the following is true about the p-value in relation to the significance level?  \n",
    "- A) A p-value greater than the significance level suggests that the null hypothesis should be rejected.  \n",
    "- B) A p-value smaller than the significance level suggests that the null hypothesis cannot be rejected.  \n",
    "- C) A p-value smaller than the significance level suggests that the null hypothesis should be rejected.  \n",
    "- D) The p-value is irrelevant to hypothesis testing and significance level.\n",
    "\n",
    "**Answer:** C) A p-value smaller than the significance level suggests that the null hypothesis should be rejected."
   ]
  },
  {
   "cell_type": "markdown",
   "id": "d4dd77a6-3024-44bc-acac-2be9a9ce4f08",
   "metadata": {},
   "source": [
    "## Part 3 Pancakes, Eggs, and Table Heights in the Academy of Lagado\n",
    "\n",
    "[35 points total]\n",
    "\n",
    "**The Great Breakfast Debate**\n",
    "\n",
    "During your visit to the flying island of Laputa, you find yourself at the Academy of Lagado— an institution known for its relentless pursuit of impractical science.  Two professors — Professor Eggsworth and Professor Flapjack — are engaged in a heated scientific rivalry.\n",
    "\n",
    "Each claims to have discovered the secret to determining the ideal breakfast table height for a citizen of Lagado.\n",
    "  * Professor Eggsworth believes that egg consumption per person predicts optimal table height.\n",
    "  * Professor Flapjack insists it’s actually the number of pancakes consumed per person that determines how high a Lagadian table should be.\n",
    "\n",
    "Each professor has gathered data across one hundred households, measuring the average daily consumption of eggs and pancakes, along with the Academy’s recommended breakfast table height (measured in Lagadian cubits).\n",
    "\n",
    "Their calculating department chair recognizing the danger of standing in the crossfire turns to you, a sacrificable data scientist from Ole Miss, to settle the debate.\n",
    "\n",
    "**Your Mission**\n",
    "\n",
    "You are given a dataset `lagado_breakfast_data.csv` with the following columns:\n",
    "  * eggs_per_person\n",
    "  * pancakes_per_person\n",
    "  * ideal_table_height\n",
    "\n",
    "Your task is to determine:\n",
    "  1. Which professor’s theory is statistically supported, if either.\n",
    "  2. Whether the professors should be given tenure or permanently reassigned to the marble pillow division."
   ]
  },
  {
   "cell_type": "markdown",
   "id": "c1e3478d-8e95-47af-8601-0e6fede4b5ae",
   "metadata": {},
   "source": [
    "**Problem 12** [5 pts] Load and visualize the dataset using matplotlib. Create two scatterplots using matplotlib:\n",
    " * One of eggs_per_person vs ideal_table_height\n",
    " * One of pancakes_per_person vs ideal_table_height\n",
    " \n",
    "Describe any visible trends."
   ]
  },
  {
   "cell_type": "code",
   "execution_count": 65,
   "id": "8233ef0c-f43e-455e-a9d0-b83241f65028",
   "metadata": {},
   "outputs": [
    {
     "data": {
      "image/png": "[encoded data removed]",
      "text/plain": [
       "<Figure size 1200x500 with 2 Axes>"
      ]
     },
     "metadata": {},
     "output_type": "display_data"
    }
   ],
   "source": [
    "import pandas as pd\n",
    "import matplotlib.pyplot as plt\n",
    "# Load the dataset\n",
    "df = pd.read_csv('lagado_breakfast_data.csv')   # assumes dataA.csv is in the current directory\n",
    "\n",
    "fig, axs = plt.subplots(1, 2, figsize=(12, 5))  # adjust figsize as needed\n",
    "\n",
    "# First plot: Eggs vs Table Height\n",
    "axs[0].scatter(df[\"eggs_per_person\"], df[\"ideal_table_height\"], color=\"orange\")\n",
    "axs[0].set_xlabel(\"Eggs per Person\")\n",
    "axs[0].set_ylabel(\"Ideal Table Height (Lagadian cubits)\")\n",
    "axs[0].set_title(\"Eggs vs. Table Height\")\n",
    "axs[0].grid(True)\n",
    "\n",
    "# Second plot: Pancakes vs Table Height\n",
    "axs[1].scatter(df[\"pancakes_per_person\"], df[\"ideal_table_height\"], color=\"blue\")\n",
    "axs[1].set_xlabel(\"Pancakes per Person\")\n",
    "axs[1].set_ylabel(\"Ideal Table Height (Lagadian cubits)\")\n",
    "axs[1].set_title(\"Pancakes vs. Table Height\")\n",
    "axs[1].grid(True)\n",
    "\n",
    "# Adjust layout to prevent overlap\n",
    "plt.tight_layout()\n",
    "plt.show()\n"
   ]
  },
  {
   "cell_type": "markdown",
   "id": "665a5cd1-3f7a-4f5d-ad07-1239dc7d34a3",
   "metadata": {},
   "source": [
    "**Trends:**\n",
    "\n",
    "It is difficult to see any trends in either of these plots.  There is significantly variability.\n",
    "Although it may be that ideal table height goes up slightly with the number of eggs\n",
    "consumed per person and down with the number of pancakes. I would defer saying anything \n",
    "definitive until we perform a significance test on the correlation."
   ]
  },
  {
   "cell_type": "markdown",
   "id": "d5cc3b31-6c63-48ce-aa84-ce2e82bedfe1",
   "metadata": {},
   "source": [
    "**Problem 13** [5 pts] For the eggs test and then the pancakes test:\n",
    "\n",
    "  * State the null and alternative hypotheses for the case where we only want to know whether there is correlation (two-tailed)"
   ]
  },
  {
   "cell_type": "markdown",
   "id": "ac13dd89-746c-46db-ba13-053857da196f",
   "metadata": {},
   "source": [
    "**Answer**: A reasonable answer is below.  Wording can vary so long as the hypotheses carry the same meaning.\n",
    "\n",
    "$$H_{0e}: \\textrm{Eggs per person is uncorrelated with ideal table height}$$\n",
    "$$H_{ae}: \\textrm{Eggs per person is correlated (non-zero) with ideal table height}$$\n",
    "\n",
    "$$H_{0p}: \\textrm{Pancakes per person is uncorrelated with ideal table height}$$\n",
    "$$H_{ap}: \\textrm{Pancakes per person is correlated (non-zero) with ideal table height}$$"
   ]
  },
  {
   "cell_type": "markdown",
   "id": "66664533-a7c3-4c39-810e-654badfecf96",
   "metadata": {},
   "source": [
    "**Problem 14** [5 pts] Compute the Pearson correlation coefficient and associated p-value for each relationship:\n",
    " * Eggs vs Table Height\n",
    " * Pancakes vs Table Height\n",
    "Report both r-values and p-values."
   ]
  },
  {
   "cell_type": "code",
   "execution_count": 67,
   "id": "91d18221-2be2-45a8-855a-fbc467efd94a",
   "metadata": {},
   "outputs": [
    {
     "name": "stdout",
     "output_type": "stream",
     "text": [
      "* Eggs test:\n",
      "Pearson correlation coefficient (r): 0.264\n",
      "P-value: 0.008023854\n",
      "\n",
      "* Pancakes test:\n",
      "Pearson correlation coefficient (r): -0.093\n",
      "P-value: 0.355513813\n"
     ]
    }
   ],
   "source": [
    "import pandas as pd\n",
    "from scipy import stats\n",
    "\n",
    "\n",
    "# Compute Pearson correlation and p-value\n",
    "r_value, p_value = stats.pearsonr(df[\"eggs_per_person\"], df[\"ideal_table_height\"])\n",
    "\n",
    "# Display the results clearly\n",
    "print(\"* Eggs test:\")\n",
    "print(f\"Pearson correlation coefficient (r): {r_value:.3f}\")\n",
    "print(f\"P-value: {p_value:.9f}\")\n",
    "\n",
    "r_value, p_value = stats.pearsonr(df[\"pancakes_per_person\"], df[\"ideal_table_height\"])\n",
    "\n",
    "print(\"\\n* Pancakes test:\")\n",
    "print(f\"Pearson correlation coefficient (r): {r_value:.3f}\")\n",
    "print(f\"P-value: {p_value:.9f}\")\n"
   ]
  },
  {
   "cell_type": "markdown",
   "id": "db46f65c-d65d-4263-a109-e8161541d20d",
   "metadata": {},
   "source": [
    "**Problem 15** [5 pts] Determine whether the results are statistically significant at the α = 0.01 level.\n",
    " * Interpret the result in plain language. (Which professor, if any, is right?)"
   ]
  },
  {
   "cell_type": "markdown",
   "id": "b92481fa-b091-4304-8118-a091308b62cc",
   "metadata": {},
   "source": [
    "**Answer** The egg test is statistically significant (p=0.008 < 0.01), we can reject the null hypothesis that \"Eggs per person is uncorrelated with ideal table height.\"  This only says that there is statistically signifcant support for the altenative hypothesis, but it does not say anything about whether the data is positive or negatively correlated, since we are performing a two-tailed test.\n",
    "\n",
    "For the pancake test, there is insufficient evidence to reject the null hypothesis, because the p-value (0.356) exceeds the confidence level α = 0.01.   This means that based on the data, we cannot conclude that there is a statistically significant correlation between pancakes per person and ideal table height. Note that failing to reject the null does not prove the absence of a correlation; it simply means that the evidence is not strong enough to support a correlation.\n",
    "\n",
    "Based on these results, only Professor Eggsworth’s theory about egg consumption appears to be statistically supported, while Professor Flapjack’s theory about pancake consumption is not supported by the evidence."
   ]
  },
  {
   "cell_type": "markdown",
   "id": "2d95a3c3-73f1-455c-9461-af9cb0569290",
   "metadata": {},
   "source": [
    "**Problem 16** [5 pts] Restate the null and alternative hypotheses for the egg test and then the pancake test for the case where we are trying to determine whether there is statistically significant evidence of a positive correlation (one-tailed).  \n",
    "\n",
    "Explain the difference between one and two tailed tests."
   ]
  },
  {
   "cell_type": "markdown",
   "id": "56547bf3-8ca5-4a4c-ab00-341a7a5e6883",
   "metadata": {},
   "source": [
    "**Answer**: A reasonable answer is below.  Wording can vary so long as the hypotheses carry the same meaning.\n",
    "\n",
    "$$H_{0e}: \\textrm{Eggs per person is negatively correlated (r<0) or uncorrelated (r=0) with ideal table height}$$\n",
    "$$H_{ae}: \\textrm{Eggs per person is positively correlated (r>0) with ideal table height}$$\n",
    "\n",
    "$$H_{0p}: \\textrm{Pancakes per person is negatively correlated (r<0) or uncorrelated (r=0) with ideal table height}$$\n",
    "$$H_{ap}: \\textrm{Pancakes per person is positively correlated (r>0) with ideal table height}$$\n",
    "\n",
    "These hypotheses correspond to a one-tailed test. Here, we test whether there is sufficient evidence to reject the null hypothesis—which includes the possibility of a negative or no correlation—in favor of the alternative that the correlation is positive. In contrast, with a two-tailed test the null hypothesis would typically state that the correlation is zero (r = 0), and the alternative would cover both extremes (r ≠ 0), thereby considering the possibility of both positive and negative correlations."
   ]
  },
  {
   "cell_type": "markdown",
   "id": "42517593-5b99-4db3-afbb-f080420fa137",
   "metadata": {},
   "source": [
    "**Problem 17** [5 pts] Compute the associated p-values for the given data under the given null hypotheses from Problem 16:\n",
    " * Eggs vs Table Height\n",
    " * Pancakes vs Table Height\n",
    "Report both p-values."
   ]
  },
  {
   "cell_type": "code",
   "execution_count": 68,
   "id": "b572fdf1-a77c-4bc0-9949-d0c8623098fc",
   "metadata": {},
   "outputs": [
    {
     "name": "stdout",
     "output_type": "stream",
     "text": [
      "* Egg test (one-tailed):\n",
      " p-value: 0.004011927142496346\n",
      "* Pancakes test (one-tailed for positive r):\n",
      " p-value: 0.8222430934869007\n"
     ]
    }
   ],
   "source": [
    "from scipy import stats\n",
    "\n",
    "def positive_pearsonr(x, y):\n",
    "    r_value, p_value = stats.pearsonr(x, y)\n",
    "\n",
    "    # For a one-tailed test (alternative: r > 0)\n",
    "    if r_value > 0:\n",
    "        p_value /= 2\n",
    "    else:\n",
    "        # If the correlation is negative, the one-tailed test does not support the alternative hypothesis.\n",
    "        p_value = 1 - p_value / 2\n",
    "    return r_value, p_value\n",
    "    \n",
    "r_value, p_value = positive_pearsonr(df[\"eggs_per_person\"], df[\"ideal_table_height\"])\n",
    "\n",
    "print(\"* Egg test (one-tailed):\")\n",
    "print(\" p-value:\", p_value)\n",
    "\n",
    "r_value, p_value = positive_pearsonr(df[\"pancakes_per_person\"], df[\"ideal_table_height\"])\n",
    "\n",
    "print(\"* Pancakes test (one-tailed for positive r):\")\n",
    "print(\" p-value:\", p_value)\n"
   ]
  },
  {
   "cell_type": "markdown",
   "id": "904dca99-66e1-46a8-b022-0f94ae7c99a2",
   "metadata": {},
   "source": [
    "**Problem 18** [5 pts] Determine whether the tests described in Problem 16 and computed in Problem 17 are statistically significant at the α = 0.01 level.\n",
    " * Interpret the result in plain language."
   ]
  },
  {
   "cell_type": "markdown",
   "id": "bf39471d-695f-490c-a383-1a284f39b336",
   "metadata": {},
   "source": [
    "**Answer** For the correlation of eggs per person vs. ideal table height, the p-value of \n",
    "0.0040 is less than α = 0.01.  It thus indicates that there is sufficient evidence to \n",
    "reject the null hypothesis, which also indicates that the evidence of a positive correlation is\n",
    "significant.\n",
    "\n",
    "For the correlation of pancakes per person vs. ideal table height, the p-value is 0.822, which\n",
    "is greater than α = 0.01, indicating there is insufficient evidence to reject the null\n",
    "hypothesis of a zero or negative correlation."
   ]
  },
  {
   "cell_type": "markdown",
   "id": "4e852497-52cc-4b20-969f-070f8ffdf43b",
   "metadata": {},
   "source": [
    "**Problem 19** [Bonus: 5 pts] The Lagadian government is considering funding a research grant to produce adjustable-height tables based on breakfast habits. Would you recommend this investment based on the evidence obtained so far? Support your recommendation with humor and statistics."
   ]
  },
  {
   "cell_type": "markdown",
   "id": "da48ed03-353a-43d1-a7f7-16080b3529b1",
   "metadata": {},
   "source": [
    "**Answer** To avoid getting caught in the crossfire, my response would be evasive.\n",
    "I'd point out that there is significant variability in the ideal table height, which\n",
    "alone justifies funding a research grant to produce adjustable-height tables.\n",
    "\n",
    "If I am pressed to verify the significance of the findings then I stand behind the\n",
    "department chair guaranteeing that he is in the crossfire should things go badly then \n",
    "I speak really slowly to afford the chair ample opportunity to cancel the meeting.\n",
    "If he moves, I happily follow so as to keep him in the middle.\n",
    "\n",
    "If this does not work then I lie and say that both correlations are significant,\n",
    "and that this justifies funding a research grant even though only the number of eggs\n",
    "vs table height exhibits a statistically significant correlation with an α = 0.01.\n",
    "\n",
    "In all three cases, I'd depart Lagado as quickly as possible."
   ]
  },
  {
   "cell_type": "markdown",
   "id": "2963ef15-c2a9-4ee8-bcf9-6f3273cd8dc8",
   "metadata": {},
   "source": [
    "## Part 4. A Lilliputian Statistical Crisis\n",
    "\n",
    "[25 pts total]\n",
    "\n",
    "For centuries, the proud nation of Lilliput has enforced the imperial edict that boiled eggs must be opened at the small end — a decree that led to the exile of the rebellious Big-Endians to the neighboring island of Blefuscu. This seemingly trivial matter has caused six rebellions, countless beheadings, and at least one naval war.\n",
    "\n",
    "Recently, the Ministry of Tradition commissioned a poll to reinforce the cultural superiority of the Little-End way. Citizens of Lilliput and Blefuscu were asked privately which end they preferred to crack their eggs. The results shocked the establishment:\n",
    "  * 52 out of 100 Lilliputians said they preferred the big end.\n",
    "  * 36 out of 80 Blefuscudians said they preferred the big end.\n",
    "\n",
    "Panic ensued. The High Chamber of Truthiness demanded a rigorous statistical analysis before launching another inquisition or rewriting the sacred breakfast scriptures.\n",
    "\n",
    "**Your Mission:**\n",
    "\n",
    "* Restore Order (or Confirm Chaos)\n",
    "\n",
    "* Protect your head."
   ]
  },
  {
   "cell_type": "markdown",
   "id": "03b3294f-78d9-4aee-a4c5-894bdaa29f38",
   "metadata": {},
   "source": [
    "**Problem 20**. [5 pts] State the null hypothesis and alternative hypothesis to test whether the two populations (Lilliput and Blefuscu) significantly differ in their proportions of big-end preference."
   ]
  },
  {
   "cell_type": "markdown",
   "id": "3849c259-32d8-4e80-a05a-a9ee1cf9a72c",
   "metadata": {},
   "source": [
    "**Answer**\n",
    "\n",
    "$$H_{0}: \\textrm{The proportion of Lilliputians who prefer the big end is equal to the proportion of Blefuscidians who prefer the big end.}$$\n",
    "\n",
    "$$H_{a}: \\textrm{The proportion of Lilliputians who prefer the big end is not equal to the proportion of Blefuscudians who prefer the big end.}$$"
   ]
  },
  {
   "cell_type": "markdown",
   "id": "5d5fb95e-5f47-436e-a20a-25bd57f7a705",
   "metadata": {},
   "source": [
    "**Problem 21**. [5 pts] Calculate the sample proportions for each group. Which group appears to be more big-endian? Which group is supposed to be?"
   ]
  },
  {
   "cell_type": "markdown",
   "id": "fba1f1e7-b838-44cc-ba76-e38a039cf8df",
   "metadata": {},
   "source": [
    "**Answer**\n",
    "\n",
    "The sample proportion is the ratio between the number preferring the big end\n",
    "and the number of samples.\n",
    "\n",
    "The sample proportion of Lilliputians who prefer the big end is\n",
    "\n",
    "$$52/100 = 0.52$$\n",
    "\n",
    "The sample proportion of Blefuscudians who prefer the big end is\n",
    "\n",
    "$$36/80 = 0.45$$\n",
    "\n",
    "The Lilliputians appear to be more \"big-endian\" from the given\n",
    "sample proportions.  However, the Lilliputian government expects\n",
    "that Blefuscudians should be more \"big-endian.\"  I infer that\n",
    "the sacred breakfast scriptures indicate that the Lilliputians\n",
    "should prefer opening boiled eggs from the little end, and that\n",
    "the Blefuscudians should prefer the morally inferior big end.\n"
   ]
  },
  {
   "cell_type": "markdown",
   "id": "3a230f03-de67-4bf3-b057-af770e1bafa5",
   "metadata": {},
   "source": [
    "**Problem 22**. [5 pts] Under the null hypothesis stated in Problem 20, calculate the pooled estimate of the proportion and the standard error. "
   ]
  },
  {
   "cell_type": "markdown",
   "id": "21eb3e22-ec2f-4188-b7bf-d0384dd599c3",
   "metadata": {},
   "source": [
    "**Answer**\n",
    "\n",
    "\n",
    "Let $x_L$ denote the number of Lilliputians that prefer the big end.\n",
    "\n",
    "Let $x_B$ denote the number of Blefuscudians that prefer the big end.\n",
    "\n",
    "Let $n_L$ be the total number of Lilliputians polled.\n",
    "\n",
    "Let $n_B$ be the total number of Blefuscudians polled.\n",
    "\n",
    "If the null hypothesis is true then it is valid to consider all samples\n",
    "were drawn from the same distribution.   If so we can \"pool\" the\n",
    "samples.\n",
    "\n",
    "Let $\\hat{p}$ denote the pooled estimate of the sample proportion.\n",
    "\n",
    "The pooled estimate treats all samples as if they came from the same distribution\n",
    "\n",
    "$$\n",
    "\\hat{p} = \\frac{x_L + x_B}{n_L + n_B} = \\frac{52+36}{80 + 100} = 0.4\\overline{8}\n",
    "$$\n",
    "\n",
    "The standard error of the sample proportion of a binomial random variable is given by\n",
    "\n",
    "$$\\text{SE}(\\hat{p}) = \\sqrt{\\frac{p(1-p)}{n}}$$\n",
    "\n",
    "When we assume that the sample are drawn from the same distribution, we pool\n",
    "the samples \n",
    "\n",
    "$$\\text{SE}(\\hat{p}) = \\sqrt{\\hat{p}(1-\\hat{p})\\bigg(\\frac{1}{n_L} + \\frac{1}{n_B}\\bigg)}$$\n",
    "\n",
    "\n",
    "$$\\text{SE}(\\hat{p}) = \\sqrt{0.4\\overline{8} (1-0.4\\overline{8})\\bigg(\\frac{1}{100} + \\frac{1}{80}\\bigg)}$$\n",
    "\n",
    "$$\\text{SE}(\\hat{p}) = \\sqrt{0.4\\overline{8} (1-0.4\\overline{8}) 0.0225}$$"
   ]
  },
  {
   "cell_type": "markdown",
   "id": "d3309f3d-68f6-421f-8e88-69f1449d725a",
   "metadata": {},
   "source": [
    "**Problem 23** [5 pts] Assume that the sampling distribution of the sample\n",
    "proportion is reasonably approximated by a normal (Gaussian) distribution.\n",
    "Then compute the z-score and corresponding p-value for the difference in sample\n",
    "proportions."
   ]
  },
  {
   "cell_type": "code",
   "execution_count": 69,
   "id": "14503be3-79ff-4eb2-840d-7d1ae69ca718",
   "metadata": {},
   "outputs": [
    {
     "data": {
      "text/plain": [
       "0.07498147303019433"
      ]
     },
     "execution_count": 69,
     "metadata": {},
     "output_type": "execute_result"
    }
   ],
   "source": [
    "from math import sqrt\n",
    "SE = sqrt(0.4888888 * (1-0.48888888) * 0.0225)\n",
    "SE"
   ]
  },
  {
   "cell_type": "markdown",
   "id": "04a610ba-f71d-4ce6-b022-3f009e460623",
   "metadata": {},
   "source": [
    "Let $D$ denote the difference between the sample proportions for Lilliputions $p_L$ and\n",
    "Blefuscudians $p_B$.  \n",
    "\n",
    "The Z-score of a sample of the sample proportion $D$ is thus given by\n",
    "\n",
    "$$Z_D = \\frac{D - \\mu_D}{s_D}$$\n",
    "\n",
    "Under the null hypothesis, the two sample proportions are equal\n",
    "and thus $\\mu_D = 0$ which simplifies the Z-score to\n",
    "\n",
    "$$Z_D = \\frac{D}{s_D} = \\frac{p_L - p_B}{s_D}$$\n",
    "\n",
    "The standard deviation of the sampling distribution of the sample proportion is the standard \n",
    "error of $\\hat{p}$.  Thus the above equation becomes\n",
    "\n",
    "$$Z_D = \\frac{p_L - p_B}{\\text{SE}(\\hat{p})} \\approx \\frac{0.52 - 0.45}{0.07498147}$$"
   ]
  },
  {
   "cell_type": "code",
   "execution_count": 72,
   "id": "14ef2d52-7140-4153-9bb7-000e57ac3a77",
   "metadata": {},
   "outputs": [
    {
     "data": {
      "text/markdown": [
       "$Z_D$ = 0.93356394814772"
      ],
      "text/plain": [
       "<IPython.core.display.Markdown object>"
      ]
     },
     "metadata": {},
     "output_type": "display_data"
    }
   ],
   "source": [
    "from IPython.display import Markdown, display\n",
    "\n",
    "Z_D = (0.52-0.45) / SE\n",
    "display(Markdown(f\"$Z_D$ = {Z_D}\"))\n"
   ]
  },
  {
   "cell_type": "markdown",
   "id": "d31b56fb-a91c-47cd-9b27-e0248e6faefe",
   "metadata": {},
   "source": [
    "Let $\\Phi$ denote the CDF of the Gaussian distribution.\n",
    "In a null hypothesis test, the p-value is the probability of an outcome that\n",
    "is equal to or more extreme than the observed outcome $Z_D$.\n",
    "\n",
    "Thus the p-value is given by\n",
    "\n",
    "$$P[D >Z_D \\mathrm{~or~} P < -Z_D] = 2(1 - P[D < Z_D]) = 2(1-\\Phi(Z_D))$$"
   ]
  },
  {
   "cell_type": "code",
   "execution_count": 71,
   "id": "31584497-c6a2-4a5e-b8e4-ae9a2e1fa8d9",
   "metadata": {},
   "outputs": [
    {
     "name": "stdout",
     "output_type": "stream",
     "text": [
      "p-value = 0.3505288693751347\n"
     ]
    }
   ],
   "source": [
    "from scipy.stats import norm\n",
    "\n",
    "phi = norm.cdf(Z_D)\n",
    "p = 2*(1-phi)\n",
    "print(f\"p-value = {p}\")\n"
   ]
  },
  {
   "cell_type": "markdown",
   "id": "ee31541d-838c-4734-8ea7-3a9e278b7781",
   "metadata": {},
   "source": [
    "**Problem 24**. [5 pts] At a 5% significance level, can the High Chamber reject the null hypothesis and declare a statistically meaningful betrayal of Lilliputian values? Justify your answer."
   ]
  },
  {
   "cell_type": "markdown",
   "id": "ae3f52bd-e8a3-4aa5-81de-cf64c0bbc078",
   "metadata": {},
   "source": [
    "**Answer** No.  The evidence is insufficient to reject the null hypothesis because the p-value $\\approx 0.35$ \n",
    "is greater than the signficance level $\\alpha = 0.05$."
   ]
  }
 ],
 "metadata": {
  "kernelspec": {
   "display_name": "Python 3 (ipykernel)",
   "language": "python",
   "name": "python3"
  },
  "language_info": {
   "codemirror_mode": {
    "name": "ipython",
    "version": 3
   },
   "file_extension": ".py",
   "mimetype": "text/x-python",
   "name": "python",
   "nbconvert_exporter": "python",
   "pygments_lexer": "ipython3",
   "version": "3.11.7"
  }
 },
 "nbformat": 4,
 "nbformat_minor": 5
}
